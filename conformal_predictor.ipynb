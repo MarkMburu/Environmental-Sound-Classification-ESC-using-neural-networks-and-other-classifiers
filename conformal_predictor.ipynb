{
  "nbformat": 4,
  "nbformat_minor": 0,
  "metadata": {
    "colab": {
      "name": "conformal_predictor.ipynb",
      "provenance": [],
      "collapsed_sections": [],
      "include_colab_link": true
    },
    "kernelspec": {
      "name": "python3",
      "display_name": "Python 3"
    }
  },
  "cells": [
    {
      "cell_type": "markdown",
      "metadata": {
        "id": "view-in-github",
        "colab_type": "text"
      },
      "source": [
        "<a href=\"https://colab.research.google.com/github/MarkMburu/Environmental-Sound-Classification-ESC-using-neural-networks-and-other-classifiers/blob/master/conformal_predictor.ipynb\" target=\"_parent\"><img src=\"https://colab.research.google.com/assets/colab-badge.svg\" alt=\"Open In Colab\"/></a>"
      ]
    },
    {
      "cell_type": "code",
      "metadata": {
        "id": "1lcd0UlPbbu8",
        "colab_type": "code",
        "colab": {}
      },
      "source": [
        "import numpy as np\n",
        "from sklearn.svm import SVC\n",
        "from nonconformist.cp import TcpClassifier\n",
        "from nonconformist.nc import NcFactory"
      ],
      "execution_count": null,
      "outputs": []
    },
    {
      "cell_type": "code",
      "metadata": {
        "id": "IFZWc1ggClXl",
        "colab_type": "code",
        "colab": {}
      },
      "source": [
        "X =  np.load('/content/feat.npy')\n",
        "y =  np.load('/content/label.npy').ravel() "
      ],
      "execution_count": null,
      "outputs": []
    },
    {
      "cell_type": "code",
      "metadata": {
        "id": "LHHvqvZMbz5P",
        "colab_type": "code",
        "colab": {}
      },
      "source": [
        "#Split data\n",
        "X_train, X_test, y_train, y_test = train_test_split(X, y, test_size=0.33, random_state=42)"
      ],
      "execution_count": null,
      "outputs": []
    },
    {
      "cell_type": "code",
      "metadata": {
        "id": "ea8VSYjCcTx8",
        "colab_type": "code",
        "colab": {}
      },
      "source": [
        "model = SVC(probability=True)\t# Create the underlying model\n",
        "nc = NcFactory.create_nc(model)\t# Create a default nonconformity function\n",
        "tcp = TcpClassifier(nc)\t\t\t# Create a transductive conformal classifier\n"
      ],
      "execution_count": null,
      "outputs": []
    },
    {
      "cell_type": "code",
      "metadata": {
        "id": "EiDOZ1iScalU",
        "colab_type": "code",
        "colab": {}
      },
      "source": [
        "# Fit the TCP using the proper training set\n",
        "tcp.fit(X_train, y_train)"
      ],
      "execution_count": null,
      "outputs": []
    },
    {
      "cell_type": "code",
      "metadata": {
        "id": "gsAQ5rTZcp0o",
        "colab_type": "code",
        "colab": {}
      },
      "source": [
        "# Produce predictions for the test set\n",
        "prediction = tcp.predict(X_test)"
      ],
      "execution_count": null,
      "outputs": []
    },
    {
      "cell_type": "code",
      "metadata": {
        "id": "I6aZzvAdc46c",
        "colab_type": "code",
        "colab": {
          "base_uri": "https://localhost:8080/",
          "height": 238
        },
        "outputId": "0f938de1-aadd-4c90-d9ff-e81ccdeec7d3"
      },
      "source": [
        "prediction"
      ],
      "execution_count": null,
      "outputs": [
        {
          "output_type": "execute_result",
          "data": {
            "text/plain": [
              "array([[0.07150407, 0.0194777 , 0.02465923, ..., 0.05131354, 0.07907011,\n",
              "        0.03328194],\n",
              "       [0.02987016, 0.15243415, 0.53670162, ..., 0.13626107, 0.03545901,\n",
              "        0.04348159],\n",
              "       [0.92893707, 0.01053461, 0.00366664, ..., 0.01501971, 0.14263095,\n",
              "        0.0166991 ],\n",
              "       ...,\n",
              "       [0.0028368 , 0.0039534 , 0.01018708, ..., 0.01345428, 0.00591896,\n",
              "        0.00983689],\n",
              "       [0.02129487, 0.32517083, 0.3229231 , ..., 0.07368155, 0.01986534,\n",
              "        0.02576088],\n",
              "       [0.10699405, 0.03501517, 0.03694891, ..., 0.04306296, 0.50172535,\n",
              "        0.08128618]])"
            ]
          },
          "metadata": {
            "tags": []
          },
          "execution_count": 48
        }
      ]
    }
  ]
}