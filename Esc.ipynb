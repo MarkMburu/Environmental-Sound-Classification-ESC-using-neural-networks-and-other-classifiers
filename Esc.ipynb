{
  "nbformat": 4,
  "nbformat_minor": 0,
  "metadata": {
    "colab": {
      "name": "Esc.ipynb",
      "provenance": [],
      "toc_visible": true
    },
    "kernelspec": {
      "name": "python3",
      "display_name": "Python 3"
    }
  },
  "cells": [
    {
      "cell_type": "code",
      "metadata": {
        "id": "LDyipgOm7zoQ",
        "colab_type": "code",
        "colab": {}
      },
      "source": [
        "###### Naive Bayes  ########\n",
        "\n",
        "from sklearn.model_selection import train_test_split\n",
        "from sklearn.naive_bayes import GaussianNB\n",
        "from sklearn.metrics import accuracy_score\n",
        "import pandas as pd\n",
        "import numpy as np"
      ],
      "execution_count": 23,
      "outputs": []
    },
    {
      "cell_type": "code",
      "metadata": {
        "id": "OPcnu7QU8lQH",
        "colab_type": "code",
        "colab": {}
      },
      "source": [
        "#Load data\n",
        "X = np.load('/content/feat.npy')\n",
        "y = np.load('/content/label.npy').ravel()"
      ],
      "execution_count": 24,
      "outputs": []
    },
    {
      "cell_type": "code",
      "metadata": {
        "id": "0tSYQwJc8v-Y",
        "colab_type": "code",
        "colab": {}
      },
      "source": [
        "#Split data\n",
        "X_train, X_test, y_train, y_test = train_test_split(X, y, test_size=0.33, random_state=42)"
      ],
      "execution_count": 25,
      "outputs": []
    },
    {
      "cell_type": "code",
      "metadata": {
        "id": "QUtbYp9E81Iu",
        "colab_type": "code",
        "colab": {}
      },
      "source": [
        "# Initialize classifier\n",
        "gnb_clf= GaussianNB() #check input params"
      ],
      "execution_count": 26,
      "outputs": []
    },
    {
      "cell_type": "code",
      "metadata": {
        "id": "IqNJ_Irx86qO",
        "colab_type": "code",
        "colab": {
          "base_uri": "https://localhost:8080/",
          "height": 34
        },
        "outputId": "520aac80-be66-4bcb-d389-1c0c4f5ee81f"
      },
      "source": [
        "# Train model\n",
        "gnb_clf.fit(X_train, y_train)\n"
      ],
      "execution_count": 27,
      "outputs": [
        {
          "output_type": "execute_result",
          "data": {
            "text/plain": [
              "GaussianNB(priors=None, var_smoothing=1e-09)"
            ]
          },
          "metadata": {
            "tags": []
          },
          "execution_count": 27
        }
      ]
    },
    {
      "cell_type": "code",
      "metadata": {
        "id": "BnEui-4c9Bjf",
        "colab_type": "code",
        "colab": {}
      },
      "source": [
        "# Make predictions\n",
        "prediction = gnb_clf.predict(X_test)"
      ],
      "execution_count": 28,
      "outputs": []
    },
    {
      "cell_type": "code",
      "metadata": {
        "id": "rQQGRh8d9HBZ",
        "colab_type": "code",
        "colab": {
          "base_uri": "https://localhost:8080/",
          "height": 34
        },
        "outputId": "56f01998-2926-4bdf-abbd-7106aaef2dd0"
      },
      "source": [
        "acc = gnb_clf.score(X_test, y_test)\n",
        "print(\"Accuracy = %0.4f\" %acc)"
      ],
      "execution_count": 29,
      "outputs": [
        {
          "output_type": "stream",
          "text": [
            "Accuracy = 0.6894\n"
          ],
          "name": "stdout"
        }
      ]
    },
    {
      "cell_type": "code",
      "metadata": {
        "id": "qf9zCCP39Ppe",
        "colab_type": "code",
        "colab": {}
      },
      "source": [
        "####### Random Forest #####\n",
        "\n",
        "from sklearn.ensemble import RandomForestClassifier #Random Forest classifier"
      ],
      "execution_count": 30,
      "outputs": []
    },
    {
      "cell_type": "code",
      "metadata": {
        "id": "uyZBp5kG9cW4",
        "colab_type": "code",
        "colab": {}
      },
      "source": [
        "# Initialize classifier\n",
        "rf_clf = RandomForestClassifier(n_jobs=2, random_state=0)\n",
        "\n",
        "# Train model\n",
        "rf_clf.fit(X_train, y_train)\n",
        "\n",
        "# Make predictions\n",
        "y_prediction = rf_clf.predict(X_test)"
      ],
      "execution_count": 31,
      "outputs": []
    },
    {
      "cell_type": "code",
      "metadata": {
        "id": "_TaOWf9N9mPS",
        "colab_type": "code",
        "colab": {
          "base_uri": "https://localhost:8080/",
          "height": 34
        },
        "outputId": "688d2ccf-39bc-41e7-fe47-67261d15b74a"
      },
      "source": [
        "acc = rf_clf.score(X_test, y_test)\n",
        "print(\"Accuracy = %0.4f\" %acc)"
      ],
      "execution_count": 32,
      "outputs": [
        {
          "output_type": "stream",
          "text": [
            "Accuracy = 0.8333\n"
          ],
          "name": "stdout"
        }
      ]
    },
    {
      "cell_type": "code",
      "metadata": {
        "id": "lzkzy7VE9000",
        "colab_type": "code",
        "colab": {
          "base_uri": "https://localhost:8080/",
          "height": 187
        },
        "outputId": "ddbe981d-973b-456f-e1c2-e318768d907a"
      },
      "source": [
        "rf_clf.predict_proba(X_test)[0:10]\n"
      ],
      "execution_count": 33,
      "outputs": [
        {
          "output_type": "execute_result",
          "data": {
            "text/plain": [
              "array([[0.  , 0.11, 0.06, 0.01, 0.  , 0.6 , 0.07, 0.07, 0.  , 0.08],\n",
              "       [0.02, 0.05, 0.06, 0.01, 0.  , 0.06, 0.08, 0.71, 0.01, 0.  ],\n",
              "       [0.47, 0.01, 0.01, 0.11, 0.  , 0.06, 0.02, 0.03, 0.28, 0.01],\n",
              "       [0.  , 0.14, 0.  , 0.02, 0.28, 0.08, 0.01, 0.  , 0.01, 0.46],\n",
              "       [0.03, 0.22, 0.03, 0.07, 0.02, 0.46, 0.06, 0.07, 0.01, 0.03],\n",
              "       [0.  , 0.57, 0.05, 0.  , 0.01, 0.01, 0.24, 0.  , 0.  , 0.12],\n",
              "       [0.07, 0.  , 0.01, 0.2 , 0.05, 0.02, 0.02, 0.  , 0.62, 0.01],\n",
              "       [0.01, 0.16, 0.76, 0.  , 0.  , 0.  , 0.02, 0.05, 0.  , 0.  ],\n",
              "       [0.  , 0.08, 0.13, 0.05, 0.  , 0.02, 0.24, 0.48, 0.  , 0.  ],\n",
              "       [0.03, 0.  , 0.02, 0.81, 0.  , 0.08, 0.02, 0.03, 0.01, 0.  ]])"
            ]
          },
          "metadata": {
            "tags": []
          },
          "execution_count": 33
        }
      ]
    },
    {
      "cell_type": "code",
      "metadata": {
        "id": "ubdLCtcJ93jq",
        "colab_type": "code",
        "colab": {}
      },
      "source": [
        "#label decoding\n",
        "label_classes = np.array(['Dog bark','Rain','Sea waves','Baby cry','Clock tick','Person sneeze','Helicopter','Chainsaw','Rooster',\n",
        "                          'Fire crackling'])"
      ],
      "execution_count": 34,
      "outputs": []
    },
    {
      "cell_type": "code",
      "metadata": {
        "id": "r5mg3Qr89_nC",
        "colab_type": "code",
        "colab": {}
      },
      "source": [
        "# Decoding predicted and actual classes (numeric to written)\n",
        "prediction_decoded = label_classes[y_prediction]\n",
        "actual_value_decoded = label_classes[y_test]"
      ],
      "execution_count": 35,
      "outputs": []
    },
    {
      "cell_type": "code",
      "metadata": {
        "id": "6UnKBaut-IQS",
        "colab_type": "code",
        "colab": {
          "base_uri": "https://localhost:8080/",
          "height": 424
        },
        "outputId": "3e8f0680-dc1f-41b5-f6d2-35804b5b58da"
      },
      "source": [
        "## Generate Confusion Matrix\n",
        "pd.crosstab(actual_value_decoded, prediction_decoded)"
      ],
      "execution_count": 36,
      "outputs": [
        {
          "output_type": "execute_result",
          "data": {
            "text/html": [
              "<div>\n",
              "<style scoped>\n",
              "    .dataframe tbody tr th:only-of-type {\n",
              "        vertical-align: middle;\n",
              "    }\n",
              "\n",
              "    .dataframe tbody tr th {\n",
              "        vertical-align: top;\n",
              "    }\n",
              "\n",
              "    .dataframe thead th {\n",
              "        text-align: right;\n",
              "    }\n",
              "</style>\n",
              "<table border=\"1\" class=\"dataframe\">\n",
              "  <thead>\n",
              "    <tr style=\"text-align: right;\">\n",
              "      <th>col_0</th>\n",
              "      <th>Baby cry</th>\n",
              "      <th>Chainsaw</th>\n",
              "      <th>Clock tick</th>\n",
              "      <th>Dog bark</th>\n",
              "      <th>Fire crackling</th>\n",
              "      <th>Helicopter</th>\n",
              "      <th>Person sneeze</th>\n",
              "      <th>Rain</th>\n",
              "      <th>Rooster</th>\n",
              "      <th>Sea waves</th>\n",
              "    </tr>\n",
              "    <tr>\n",
              "      <th>row_0</th>\n",
              "      <th></th>\n",
              "      <th></th>\n",
              "      <th></th>\n",
              "      <th></th>\n",
              "      <th></th>\n",
              "      <th></th>\n",
              "      <th></th>\n",
              "      <th></th>\n",
              "      <th></th>\n",
              "      <th></th>\n",
              "    </tr>\n",
              "  </thead>\n",
              "  <tbody>\n",
              "    <tr>\n",
              "      <th>Baby cry</th>\n",
              "      <td>12</td>\n",
              "      <td>0</td>\n",
              "      <td>0</td>\n",
              "      <td>0</td>\n",
              "      <td>0</td>\n",
              "      <td>0</td>\n",
              "      <td>0</td>\n",
              "      <td>0</td>\n",
              "      <td>1</td>\n",
              "      <td>0</td>\n",
              "    </tr>\n",
              "    <tr>\n",
              "      <th>Chainsaw</th>\n",
              "      <td>0</td>\n",
              "      <td>10</td>\n",
              "      <td>0</td>\n",
              "      <td>0</td>\n",
              "      <td>0</td>\n",
              "      <td>0</td>\n",
              "      <td>0</td>\n",
              "      <td>1</td>\n",
              "      <td>0</td>\n",
              "      <td>0</td>\n",
              "    </tr>\n",
              "    <tr>\n",
              "      <th>Clock tick</th>\n",
              "      <td>0</td>\n",
              "      <td>0</td>\n",
              "      <td>8</td>\n",
              "      <td>0</td>\n",
              "      <td>0</td>\n",
              "      <td>0</td>\n",
              "      <td>0</td>\n",
              "      <td>0</td>\n",
              "      <td>0</td>\n",
              "      <td>0</td>\n",
              "    </tr>\n",
              "    <tr>\n",
              "      <th>Dog bark</th>\n",
              "      <td>1</td>\n",
              "      <td>2</td>\n",
              "      <td>0</td>\n",
              "      <td>13</td>\n",
              "      <td>0</td>\n",
              "      <td>0</td>\n",
              "      <td>0</td>\n",
              "      <td>0</td>\n",
              "      <td>1</td>\n",
              "      <td>0</td>\n",
              "    </tr>\n",
              "    <tr>\n",
              "      <th>Fire crackling</th>\n",
              "      <td>0</td>\n",
              "      <td>0</td>\n",
              "      <td>1</td>\n",
              "      <td>0</td>\n",
              "      <td>15</td>\n",
              "      <td>0</td>\n",
              "      <td>0</td>\n",
              "      <td>0</td>\n",
              "      <td>0</td>\n",
              "      <td>0</td>\n",
              "    </tr>\n",
              "    <tr>\n",
              "      <th>Helicopter</th>\n",
              "      <td>0</td>\n",
              "      <td>2</td>\n",
              "      <td>0</td>\n",
              "      <td>0</td>\n",
              "      <td>0</td>\n",
              "      <td>7</td>\n",
              "      <td>1</td>\n",
              "      <td>2</td>\n",
              "      <td>0</td>\n",
              "      <td>1</td>\n",
              "    </tr>\n",
              "    <tr>\n",
              "      <th>Person sneeze</th>\n",
              "      <td>0</td>\n",
              "      <td>0</td>\n",
              "      <td>0</td>\n",
              "      <td>1</td>\n",
              "      <td>1</td>\n",
              "      <td>0</td>\n",
              "      <td>9</td>\n",
              "      <td>0</td>\n",
              "      <td>0</td>\n",
              "      <td>0</td>\n",
              "    </tr>\n",
              "    <tr>\n",
              "      <th>Rain</th>\n",
              "      <td>0</td>\n",
              "      <td>0</td>\n",
              "      <td>0</td>\n",
              "      <td>0</td>\n",
              "      <td>0</td>\n",
              "      <td>0</td>\n",
              "      <td>0</td>\n",
              "      <td>17</td>\n",
              "      <td>0</td>\n",
              "      <td>0</td>\n",
              "    </tr>\n",
              "    <tr>\n",
              "      <th>Rooster</th>\n",
              "      <td>1</td>\n",
              "      <td>0</td>\n",
              "      <td>0</td>\n",
              "      <td>0</td>\n",
              "      <td>0</td>\n",
              "      <td>1</td>\n",
              "      <td>0</td>\n",
              "      <td>0</td>\n",
              "      <td>10</td>\n",
              "      <td>0</td>\n",
              "    </tr>\n",
              "    <tr>\n",
              "      <th>Sea waves</th>\n",
              "      <td>0</td>\n",
              "      <td>0</td>\n",
              "      <td>0</td>\n",
              "      <td>0</td>\n",
              "      <td>0</td>\n",
              "      <td>0</td>\n",
              "      <td>1</td>\n",
              "      <td>4</td>\n",
              "      <td>0</td>\n",
              "      <td>9</td>\n",
              "    </tr>\n",
              "  </tbody>\n",
              "</table>\n",
              "</div>"
            ],
            "text/plain": [
              "col_0           Baby cry  Chainsaw  Clock tick  ...  Rain  Rooster  Sea waves\n",
              "row_0                                           ...                          \n",
              "Baby cry              12         0           0  ...     0        1          0\n",
              "Chainsaw               0        10           0  ...     1        0          0\n",
              "Clock tick             0         0           8  ...     0        0          0\n",
              "Dog bark               1         2           0  ...     0        1          0\n",
              "Fire crackling         0         0           1  ...     0        0          0\n",
              "Helicopter             0         2           0  ...     2        0          1\n",
              "Person sneeze          0         0           0  ...     0        0          0\n",
              "Rain                   0         0           0  ...    17        0          0\n",
              "Rooster                1         0           0  ...     0       10          0\n",
              "Sea waves              0         0           0  ...     4        0          9\n",
              "\n",
              "[10 rows x 10 columns]"
            ]
          },
          "metadata": {
            "tags": []
          },
          "execution_count": 36
        }
      ]
    },
    {
      "cell_type": "code",
      "metadata": {
        "id": "Z_NgZpl0-M27",
        "colab_type": "code",
        "colab": {}
      },
      "source": [
        "###### Support Vector Machine ######\n",
        "import sklearn\n",
        "from sklearn.svm import SVC, LinearSVC\n",
        "from sklearn.model_selection import train_test_split\n",
        "from sklearn.model_selection import GridSearchCV\n",
        "from sklearn.metrics import classification_report\n",
        "from sklearn.metrics import accuracy_score\n",
        "from sklearn.preprocessing import StandardScaler\n",
        "\n",
        "from sklearn.model_selection import RandomizedSearchCV\n",
        "from scipy.stats import reciprocal, uniform"
      ],
      "execution_count": 37,
      "outputs": []
    },
    {
      "cell_type": "code",
      "metadata": {
        "id": "BKwYkiM8-nkc",
        "colab_type": "code",
        "colab": {}
      },
      "source": [
        "# Data scaling \n",
        "scaler = StandardScaler()\n",
        "X_train_scaled = scaler.fit_transform(X_train.astype(np.float32))\n",
        "X_test_scaled = scaler.transform(X_test.astype(np.float32))"
      ],
      "execution_count": 38,
      "outputs": []
    },
    {
      "cell_type": "code",
      "metadata": {
        "id": "iSqy5uDX-x9U",
        "colab_type": "code",
        "colab": {
          "base_uri": "https://localhost:8080/",
          "height": 85
        },
        "outputId": "b04a9ffa-84cd-40b6-f893-6597bf5eb4d2"
      },
      "source": [
        "# Implement simple linear SVM\n",
        "svm_clf = SVC(C=28.0, gamma = 0.00001, decision_function_shape=\"ovr\") #These parameters can be modified\n",
        "\n",
        "# Fit model\n",
        "svm_clf.fit(X_train, y_train) "
      ],
      "execution_count": 39,
      "outputs": [
        {
          "output_type": "execute_result",
          "data": {
            "text/plain": [
              "SVC(C=28.0, break_ties=False, cache_size=200, class_weight=None, coef0=0.0,\n",
              "    decision_function_shape='ovr', degree=3, gamma=1e-05, kernel='rbf',\n",
              "    max_iter=-1, probability=False, random_state=None, shrinking=True,\n",
              "    tol=0.001, verbose=False)"
            ]
          },
          "metadata": {
            "tags": []
          },
          "execution_count": 39
        }
      ]
    },
    {
      "cell_type": "code",
      "metadata": {
        "id": "odUn3DIP-50P",
        "colab_type": "code",
        "colab": {}
      },
      "source": [
        "#Make predictions\n",
        "y_predict = svm_clf.predict(X_test)"
      ],
      "execution_count": 40,
      "outputs": []
    },
    {
      "cell_type": "code",
      "metadata": {
        "id": "Mkv-AOla_F0N",
        "colab_type": "code",
        "colab": {
          "base_uri": "https://localhost:8080/",
          "height": 34
        },
        "outputId": "fa20e916-372c-41b8-b7f8-a5a4f6867de8"
      },
      "source": [
        "# Accuracy\n",
        "acc = svm_clf.score(X_test, y_test)\n",
        "print(\"accuracy=%0.4f\" %acc)"
      ],
      "execution_count": 41,
      "outputs": [
        {
          "output_type": "stream",
          "text": [
            "accuracy=0.8182\n"
          ],
          "name": "stdout"
        }
      ]
    }
  ]
}