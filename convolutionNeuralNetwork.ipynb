{
  "nbformat": 4,
  "nbformat_minor": 0,
  "metadata": {
    "colab": {
      "name": "convolutionNeuralNetwork.ipynb",
      "provenance": []
    },
    "kernelspec": {
      "name": "python3",
      "display_name": "Python 3"
    }
  },
  "cells": [
    {
      "cell_type": "code",
      "metadata": {
        "id": "zrxsJJTH-7He",
        "colab_type": "code",
        "colab": {
          "base_uri": "https://localhost:8080/",
          "height": 34
        },
        "outputId": "1c034ee0-7fc4-4faa-f436-4d6bb994208c"
      },
      "source": [
        "import numpy as np\n",
        "import keras\n",
        "from keras.models import Sequential\n",
        "from keras.layers import Dense, Dropout, Activation\n",
        "from keras.layers import Embedding\n",
        "from keras.layers import Conv1D, GlobalAveragePooling1D, MaxPooling1D\n",
        "from keras.optimizers import SGD\n",
        "from sklearn.model_selection import train_test_split"
      ],
      "execution_count": 1,
      "outputs": [
        {
          "output_type": "stream",
          "text": [
            "Using TensorFlow backend.\n"
          ],
          "name": "stderr"
        }
      ]
    },
    {
      "cell_type": "code",
      "metadata": {
        "id": "6aQ-Dchl_w8M",
        "colab_type": "code",
        "colab": {}
      },
      "source": [
        "# Load data\n",
        "X = np.load(\"feat.npy\")\n",
        "y = np.load('label.npy').ravel()\n"
      ],
      "execution_count": 2,
      "outputs": []
    },
    {
      "cell_type": "code",
      "metadata": {
        "id": "15jKHqdS_0wS",
        "colab_type": "code",
        "colab": {}
      },
      "source": [
        "# Split data\n",
        "X_train, X_test, y_train, y_test = train_test_split(X, y, test_size = 0.4, random_state = 233)\n"
      ],
      "execution_count": 3,
      "outputs": []
    },
    {
      "cell_type": "code",
      "metadata": {
        "id": "Qhycs3GY_6G6",
        "colab_type": "code",
        "colab": {}
      },
      "source": [
        "# Neural Network Construction\n",
        "model = Sequential()"
      ],
      "execution_count": 4,
      "outputs": []
    },
    {
      "cell_type": "code",
      "metadata": {
        "id": "nco9utPhAB4E",
        "colab_type": "code",
        "colab": {}
      },
      "source": [
        "# Network Architecture\n",
        "model.add(Conv1D(64, 3, activation='relu', input_shape = (193, 1)))\n",
        "model.add(Conv1D(64, 3, activation='relu'))\n",
        "model.add(MaxPooling1D(3))\n",
        "model.add(Conv1D(128, 3, activation='relu'))\n",
        "model.add(Conv1D(128, 3, activation='relu'))\n",
        "model.add(GlobalAveragePooling1D())\n",
        "model.add(Dropout(0.5))\n",
        "model.add(Dense(10, activation='softmax'))"
      ],
      "execution_count": 5,
      "outputs": []
    },
    {
      "cell_type": "code",
      "metadata": {
        "id": "zHikb_nEADwZ",
        "colab_type": "code",
        "colab": {}
      },
      "source": [
        "# Most used loss function for muliple-class classification\n",
        "model.compile(loss='categorical_crossentropy',\n",
        "              optimizer='adam',\n",
        "              metrics=['accuracy'])"
      ],
      "execution_count": 6,
      "outputs": []
    },
    {
      "cell_type": "code",
      "metadata": {
        "id": "AGw32nLxAIzI",
        "colab_type": "code",
        "colab": {}
      },
      "source": [
        "# Convert label to onehot encoding\n",
        "y_train = keras.utils.to_categorical(y_train - 1, num_classes=10) # Converts a class vector (integers) to binary class matrix\n",
        "y_test = keras.utils.to_categorical(y_test - 1, num_classes=10)\n"
      ],
      "execution_count": 7,
      "outputs": []
    },
    {
      "cell_type": "code",
      "metadata": {
        "id": "wVpnPfC1APeL",
        "colab_type": "code",
        "colab": {}
      },
      "source": [
        "# Make 2-dim into 3-dim array for input for model training\n",
        "X_train = np.expand_dims(X_train, axis=2)\n",
        "X_test = np.expand_dims(X_test, axis=2)\n"
      ],
      "execution_count": 8,
      "outputs": []
    },
    {
      "cell_type": "code",
      "metadata": {
        "id": "0W0YmlMRAV1-",
        "colab_type": "code",
        "colab": {
          "base_uri": "https://localhost:8080/",
          "height": 1000
        },
        "outputId": "05590acc-f918-466f-8f9d-8aecc2683d48"
      },
      "source": [
        "# Train Network\n",
        "model.fit(X_train, y_train, batch_size=64, epochs=100) # Epochs are tunable"
      ],
      "execution_count": 9,
      "outputs": [
        {
          "output_type": "stream",
          "text": [
            "Epoch 1/100\n",
            "240/240 [==============================] - 1s 3ms/step - loss: 2.3995 - accuracy: 0.0833\n",
            "Epoch 2/100\n",
            "240/240 [==============================] - 0s 1ms/step - loss: 2.2483 - accuracy: 0.1292\n",
            "Epoch 3/100\n",
            "240/240 [==============================] - 0s 1ms/step - loss: 2.2413 - accuracy: 0.1375\n",
            "Epoch 4/100\n",
            "240/240 [==============================] - 0s 1ms/step - loss: 2.2123 - accuracy: 0.1833\n",
            "Epoch 5/100\n",
            "240/240 [==============================] - 0s 1ms/step - loss: 2.1054 - accuracy: 0.2625\n",
            "Epoch 6/100\n",
            "240/240 [==============================] - 0s 1ms/step - loss: 2.0762 - accuracy: 0.2708\n",
            "Epoch 7/100\n",
            "240/240 [==============================] - 0s 1ms/step - loss: 2.0510 - accuracy: 0.2958\n",
            "Epoch 8/100\n",
            "240/240 [==============================] - 0s 1ms/step - loss: 1.9909 - accuracy: 0.3042\n",
            "Epoch 9/100\n",
            "240/240 [==============================] - 0s 1ms/step - loss: 1.8632 - accuracy: 0.3833\n",
            "Epoch 10/100\n",
            "240/240 [==============================] - 0s 1ms/step - loss: 1.7856 - accuracy: 0.3125\n",
            "Epoch 11/100\n",
            "240/240 [==============================] - 0s 1ms/step - loss: 1.7459 - accuracy: 0.3500\n",
            "Epoch 12/100\n",
            "240/240 [==============================] - 0s 1ms/step - loss: 1.6058 - accuracy: 0.4333\n",
            "Epoch 13/100\n",
            "240/240 [==============================] - 0s 1ms/step - loss: 1.5688 - accuracy: 0.4000\n",
            "Epoch 14/100\n",
            "240/240 [==============================] - 0s 1ms/step - loss: 1.5235 - accuracy: 0.4417\n",
            "Epoch 15/100\n",
            "240/240 [==============================] - 0s 1ms/step - loss: 1.4667 - accuracy: 0.4750\n",
            "Epoch 16/100\n",
            "240/240 [==============================] - 0s 1ms/step - loss: 1.3095 - accuracy: 0.5500\n",
            "Epoch 17/100\n",
            "240/240 [==============================] - 0s 1ms/step - loss: 1.3248 - accuracy: 0.5458\n",
            "Epoch 18/100\n",
            "240/240 [==============================] - 0s 1ms/step - loss: 1.3678 - accuracy: 0.5250\n",
            "Epoch 19/100\n",
            "240/240 [==============================] - 0s 1ms/step - loss: 1.2690 - accuracy: 0.5583\n",
            "Epoch 20/100\n",
            "240/240 [==============================] - 0s 1ms/step - loss: 1.2313 - accuracy: 0.5667\n",
            "Epoch 21/100\n",
            "240/240 [==============================] - 0s 1ms/step - loss: 1.2166 - accuracy: 0.5833\n",
            "Epoch 22/100\n",
            "240/240 [==============================] - 0s 1ms/step - loss: 1.1590 - accuracy: 0.5667\n",
            "Epoch 23/100\n",
            "240/240 [==============================] - 0s 1ms/step - loss: 1.1696 - accuracy: 0.6083\n",
            "Epoch 24/100\n",
            "240/240 [==============================] - 0s 1ms/step - loss: 1.0624 - accuracy: 0.6250\n",
            "Epoch 25/100\n",
            "240/240 [==============================] - 0s 1ms/step - loss: 1.0946 - accuracy: 0.6583\n",
            "Epoch 26/100\n",
            "240/240 [==============================] - 0s 1ms/step - loss: 1.1472 - accuracy: 0.5958\n",
            "Epoch 27/100\n",
            "240/240 [==============================] - 0s 1ms/step - loss: 1.0381 - accuracy: 0.6667\n",
            "Epoch 28/100\n",
            "240/240 [==============================] - 0s 1ms/step - loss: 1.1289 - accuracy: 0.6167\n",
            "Epoch 29/100\n",
            "240/240 [==============================] - 0s 1ms/step - loss: 0.9669 - accuracy: 0.6625\n",
            "Epoch 30/100\n",
            "240/240 [==============================] - 0s 1ms/step - loss: 0.9580 - accuracy: 0.6542\n",
            "Epoch 31/100\n",
            "240/240 [==============================] - 0s 1ms/step - loss: 0.9023 - accuracy: 0.6708\n",
            "Epoch 32/100\n",
            "240/240 [==============================] - 0s 1ms/step - loss: 0.9478 - accuracy: 0.6750\n",
            "Epoch 33/100\n",
            "240/240 [==============================] - 0s 1ms/step - loss: 0.9274 - accuracy: 0.6375\n",
            "Epoch 34/100\n",
            "240/240 [==============================] - 0s 1ms/step - loss: 0.9846 - accuracy: 0.6375\n",
            "Epoch 35/100\n",
            "240/240 [==============================] - 0s 1ms/step - loss: 0.8733 - accuracy: 0.6917\n",
            "Epoch 36/100\n",
            "240/240 [==============================] - 0s 1ms/step - loss: 0.8493 - accuracy: 0.6958\n",
            "Epoch 37/100\n",
            "240/240 [==============================] - 0s 1ms/step - loss: 0.8455 - accuracy: 0.6875\n",
            "Epoch 38/100\n",
            "240/240 [==============================] - 0s 1ms/step - loss: 0.7749 - accuracy: 0.7542\n",
            "Epoch 39/100\n",
            "240/240 [==============================] - 0s 1ms/step - loss: 0.8154 - accuracy: 0.7125\n",
            "Epoch 40/100\n",
            "240/240 [==============================] - 0s 1ms/step - loss: 0.8786 - accuracy: 0.6833\n",
            "Epoch 41/100\n",
            "240/240 [==============================] - 0s 1ms/step - loss: 0.7553 - accuracy: 0.7458\n",
            "Epoch 42/100\n",
            "240/240 [==============================] - 0s 1ms/step - loss: 0.6992 - accuracy: 0.7708\n",
            "Epoch 43/100\n",
            "240/240 [==============================] - 0s 1ms/step - loss: 0.7854 - accuracy: 0.7417\n",
            "Epoch 44/100\n",
            "240/240 [==============================] - 0s 1ms/step - loss: 0.6722 - accuracy: 0.7417\n",
            "Epoch 45/100\n",
            "240/240 [==============================] - 0s 1ms/step - loss: 0.7174 - accuracy: 0.7292\n",
            "Epoch 46/100\n",
            "240/240 [==============================] - 0s 1ms/step - loss: 0.6422 - accuracy: 0.7792\n",
            "Epoch 47/100\n",
            "240/240 [==============================] - 0s 1ms/step - loss: 0.6845 - accuracy: 0.7583\n",
            "Epoch 48/100\n",
            "240/240 [==============================] - 0s 1ms/step - loss: 0.6715 - accuracy: 0.7625\n",
            "Epoch 49/100\n",
            "240/240 [==============================] - 0s 1ms/step - loss: 0.6779 - accuracy: 0.7625\n",
            "Epoch 50/100\n",
            "240/240 [==============================] - 0s 1ms/step - loss: 0.6421 - accuracy: 0.7875\n",
            "Epoch 51/100\n",
            "240/240 [==============================] - 0s 1ms/step - loss: 0.6199 - accuracy: 0.7958\n",
            "Epoch 52/100\n",
            "240/240 [==============================] - 0s 1ms/step - loss: 0.6143 - accuracy: 0.8000\n",
            "Epoch 53/100\n",
            "240/240 [==============================] - 0s 1ms/step - loss: 0.6441 - accuracy: 0.7667\n",
            "Epoch 54/100\n",
            "240/240 [==============================] - 0s 1ms/step - loss: 0.5774 - accuracy: 0.7958\n",
            "Epoch 55/100\n",
            "240/240 [==============================] - 0s 1ms/step - loss: 0.6041 - accuracy: 0.7958\n",
            "Epoch 56/100\n",
            "240/240 [==============================] - 0s 1ms/step - loss: 0.6027 - accuracy: 0.7875\n",
            "Epoch 57/100\n",
            "240/240 [==============================] - 0s 1ms/step - loss: 0.6105 - accuracy: 0.7917\n",
            "Epoch 58/100\n",
            "240/240 [==============================] - 0s 1ms/step - loss: 0.5473 - accuracy: 0.8333\n",
            "Epoch 59/100\n",
            "240/240 [==============================] - 0s 1ms/step - loss: 0.5057 - accuracy: 0.8333\n",
            "Epoch 60/100\n",
            "240/240 [==============================] - 0s 1ms/step - loss: 0.5559 - accuracy: 0.8208\n",
            "Epoch 61/100\n",
            "240/240 [==============================] - 0s 1ms/step - loss: 0.5411 - accuracy: 0.8000\n",
            "Epoch 62/100\n",
            "240/240 [==============================] - 0s 1ms/step - loss: 0.5080 - accuracy: 0.8458\n",
            "Epoch 63/100\n",
            "240/240 [==============================] - 0s 1ms/step - loss: 0.5272 - accuracy: 0.8042\n",
            "Epoch 64/100\n",
            "240/240 [==============================] - 0s 1ms/step - loss: 0.5428 - accuracy: 0.8083\n",
            "Epoch 65/100\n",
            "240/240 [==============================] - 0s 1ms/step - loss: 0.5430 - accuracy: 0.8292\n",
            "Epoch 66/100\n",
            "240/240 [==============================] - 0s 1ms/step - loss: 0.5293 - accuracy: 0.8083\n",
            "Epoch 67/100\n",
            "240/240 [==============================] - 0s 1ms/step - loss: 0.5237 - accuracy: 0.8333\n",
            "Epoch 68/100\n",
            "240/240 [==============================] - 0s 1ms/step - loss: 0.5498 - accuracy: 0.7875\n",
            "Epoch 69/100\n",
            "240/240 [==============================] - 0s 1ms/step - loss: 0.5305 - accuracy: 0.7875\n",
            "Epoch 70/100\n",
            "240/240 [==============================] - 0s 1ms/step - loss: 0.4351 - accuracy: 0.8500\n",
            "Epoch 71/100\n",
            "240/240 [==============================] - 0s 1ms/step - loss: 0.4776 - accuracy: 0.8375\n",
            "Epoch 72/100\n",
            "240/240 [==============================] - 0s 1ms/step - loss: 0.5060 - accuracy: 0.8583\n",
            "Epoch 73/100\n",
            "240/240 [==============================] - 0s 1ms/step - loss: 0.4955 - accuracy: 0.8417\n",
            "Epoch 74/100\n",
            "240/240 [==============================] - 0s 1ms/step - loss: 0.4047 - accuracy: 0.8875\n",
            "Epoch 75/100\n",
            "240/240 [==============================] - 0s 1ms/step - loss: 0.4364 - accuracy: 0.8500\n",
            "Epoch 76/100\n",
            "240/240 [==============================] - 0s 1ms/step - loss: 0.4449 - accuracy: 0.8333\n",
            "Epoch 77/100\n",
            "240/240 [==============================] - 0s 1ms/step - loss: 0.4003 - accuracy: 0.8750\n",
            "Epoch 78/100\n",
            "240/240 [==============================] - 0s 1ms/step - loss: 0.3963 - accuracy: 0.8833\n",
            "Epoch 79/100\n",
            "240/240 [==============================] - 0s 1ms/step - loss: 0.4249 - accuracy: 0.8708\n",
            "Epoch 80/100\n",
            "240/240 [==============================] - 0s 1ms/step - loss: 0.4057 - accuracy: 0.8708\n",
            "Epoch 81/100\n",
            "240/240 [==============================] - 0s 1ms/step - loss: 0.4555 - accuracy: 0.8375\n",
            "Epoch 82/100\n",
            "240/240 [==============================] - 0s 1ms/step - loss: 0.4403 - accuracy: 0.8667\n",
            "Epoch 83/100\n",
            "240/240 [==============================] - 0s 1ms/step - loss: 0.4010 - accuracy: 0.8792\n",
            "Epoch 84/100\n",
            "240/240 [==============================] - 0s 1ms/step - loss: 0.3916 - accuracy: 0.8792\n",
            "Epoch 85/100\n",
            "240/240 [==============================] - 0s 1ms/step - loss: 0.3883 - accuracy: 0.8583\n",
            "Epoch 86/100\n",
            "240/240 [==============================] - 0s 1ms/step - loss: 0.4517 - accuracy: 0.8542\n",
            "Epoch 87/100\n",
            "240/240 [==============================] - 0s 1ms/step - loss: 0.4130 - accuracy: 0.8833\n",
            "Epoch 88/100\n",
            "240/240 [==============================] - 0s 1ms/step - loss: 0.3902 - accuracy: 0.8667\n",
            "Epoch 89/100\n",
            "240/240 [==============================] - 0s 1ms/step - loss: 0.3337 - accuracy: 0.8875\n",
            "Epoch 90/100\n",
            "240/240 [==============================] - 0s 1ms/step - loss: 0.3746 - accuracy: 0.8833\n",
            "Epoch 91/100\n",
            "240/240 [==============================] - 0s 1ms/step - loss: 0.3779 - accuracy: 0.8583\n",
            "Epoch 92/100\n",
            "240/240 [==============================] - 0s 1ms/step - loss: 0.3425 - accuracy: 0.8917\n",
            "Epoch 93/100\n",
            "240/240 [==============================] - 0s 1ms/step - loss: 0.3822 - accuracy: 0.8750\n",
            "Epoch 94/100\n",
            "240/240 [==============================] - 0s 1ms/step - loss: 0.3422 - accuracy: 0.8750\n",
            "Epoch 95/100\n",
            "240/240 [==============================] - 0s 1ms/step - loss: 0.3676 - accuracy: 0.8792\n",
            "Epoch 96/100\n",
            "240/240 [==============================] - 0s 1ms/step - loss: 0.3412 - accuracy: 0.8792\n",
            "Epoch 97/100\n",
            "240/240 [==============================] - 0s 1ms/step - loss: 0.3840 - accuracy: 0.8750\n",
            "Epoch 98/100\n",
            "240/240 [==============================] - 0s 1ms/step - loss: 0.3230 - accuracy: 0.8958\n",
            "Epoch 99/100\n",
            "240/240 [==============================] - 0s 1ms/step - loss: 0.3829 - accuracy: 0.8708\n",
            "Epoch 100/100\n",
            "240/240 [==============================] - 0s 1ms/step - loss: 0.3526 - accuracy: 0.8875\n"
          ],
          "name": "stdout"
        },
        {
          "output_type": "execute_result",
          "data": {
            "text/plain": [
              "<keras.callbacks.callbacks.History at 0x7f5e36182b38>"
            ]
          },
          "metadata": {
            "tags": []
          },
          "execution_count": 9
        }
      ]
    },
    {
      "cell_type": "code",
      "metadata": {
        "id": "KFyxwAJlAit3",
        "colab_type": "code",
        "colab": {
          "base_uri": "https://localhost:8080/",
          "height": 34
        },
        "outputId": "ba973d57-4271-4183-c20e-2331e7b6cdd2"
      },
      "source": [
        "# Compute Accuracy and Loss\n",
        "score, acc = model.evaluate(X_test, y_test, batch_size=16)"
      ],
      "execution_count": 10,
      "outputs": [
        {
          "output_type": "stream",
          "text": [
            "160/160 [==============================] - 0s 589us/step\n"
          ],
          "name": "stdout"
        }
      ]
    },
    {
      "cell_type": "code",
      "metadata": {
        "id": "Q2jQRInPAoSm",
        "colab_type": "code",
        "colab": {
          "base_uri": "https://localhost:8080/",
          "height": 51
        },
        "outputId": "97b696ad-eeb1-46f8-f976-865dd1291b8e"
      },
      "source": [
        "print('Test score:', score)\n",
        "print('Test accuracy:', acc)"
      ],
      "execution_count": 11,
      "outputs": [
        {
          "output_type": "stream",
          "text": [
            "Test score: 0.8873702585697174\n",
            "Test accuracy: 0.78125\n"
          ],
          "name": "stdout"
        }
      ]
    }
  ]
}