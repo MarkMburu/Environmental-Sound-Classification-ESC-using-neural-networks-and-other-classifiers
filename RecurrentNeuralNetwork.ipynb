{
  "nbformat": 4,
  "nbformat_minor": 0,
  "metadata": {
    "colab": {
      "name": "RecurrentNeuralNetwork.ipynb",
      "provenance": []
    },
    "kernelspec": {
      "name": "python3",
      "display_name": "Python 3"
    }
  },
  "cells": [
    {
      "cell_type": "code",
      "metadata": {
        "id": "31yTCdPo8-Ju",
        "colab_type": "code",
        "colab": {
          "base_uri": "https://localhost:8080/",
          "height": 34
        },
        "outputId": "cb5cd886-5db2-4ff8-81de-a798399ba3e7"
      },
      "source": [
        "####### Recurrent Neural Network #####\n",
        "import os\n",
        "import numpy as np\n",
        "from sklearn.model_selection import train_test_split\n",
        "import keras\n",
        "from keras.models import Sequential\n",
        "from keras.layers.recurrent import LSTM\n",
        "from keras.layers import Dense\n",
        "from keras.optimizers import Adam"
      ],
      "execution_count": 1,
      "outputs": [
        {
          "output_type": "stream",
          "text": [
            "Using TensorFlow backend.\n"
          ],
          "name": "stderr"
        }
      ]
    },
    {
      "cell_type": "code",
      "metadata": {
        "id": "YMtKs7fu9YaL",
        "colab_type": "code",
        "colab": {}
      },
      "source": [
        "# Load data\n",
        "X = np.load(\"feat.npy\")\n",
        "y = np.load('label.npy').ravel()"
      ],
      "execution_count": 2,
      "outputs": []
    },
    {
      "cell_type": "code",
      "metadata": {
        "id": "cwkWlIM_9dN4",
        "colab_type": "code",
        "colab": {}
      },
      "source": [
        "X_train, X_test, y_train, y_test = train_test_split(X, y, test_size=0.25, random_state=233)\n",
        "\n",
        "# Reshape data for LSTM (Samples, Timesteps, Features)\n",
        "X_train = np.expand_dims(X_train, axis=2)  # (280,193,1)\n",
        "X_test = np.expand_dims(X_test, axis=2)"
      ],
      "execution_count": 3,
      "outputs": []
    },
    {
      "cell_type": "code",
      "metadata": {
        "id": "1r5oayUA9jk7",
        "colab_type": "code",
        "colab": {}
      },
      "source": [
        "y_train = keras.utils.to_categorical(y_train - 1, num_classes=10)  # Converts a class vector (integers) to binary class matrix\n",
        "y_test = keras.utils.to_categorical(y_test - 1, num_classes=10)\n"
      ],
      "execution_count": 4,
      "outputs": []
    },
    {
      "cell_type": "code",
      "metadata": {
        "id": "KjBXUofA9pvt",
        "colab_type": "code",
        "colab": {
          "base_uri": "https://localhost:8080/",
          "height": 34
        },
        "outputId": "0d21607a-8c09-4239-c84b-1d1831082db2"
      },
      "source": [
        "# Build RNN Neural Network\n",
        "print('Build LSTM RNN model ...')\n",
        "model = Sequential()\n",
        "model.add(LSTM(128, return_sequences=True, input_shape=X_train.shape[1:]))\n",
        "model.add(LSTM(32, return_sequences=False))\n",
        "model.add(Dense(y_train.shape[1], activation='softmax'))"
      ],
      "execution_count": 5,
      "outputs": [
        {
          "output_type": "stream",
          "text": [
            "Build LSTM RNN model ...\n"
          ],
          "name": "stdout"
        }
      ]
    },
    {
      "cell_type": "code",
      "metadata": {
        "id": "fcPSZnDE9xDh",
        "colab_type": "code",
        "colab": {
          "base_uri": "https://localhost:8080/",
          "height": 289
        },
        "outputId": "72019a62-1888-4e40-ac31-cfe148e84fa2"
      },
      "source": [
        "print(\"Compiling ...\")\n",
        "model.compile(loss='categorical_crossentropy',  # loss function for multi-classification\n",
        "              optimizer='adam',\n",
        "              metrics=['accuracy'])\n",
        "\n",
        "print(model.summary())"
      ],
      "execution_count": 6,
      "outputs": [
        {
          "output_type": "stream",
          "text": [
            "Compiling ...\n",
            "Model: \"sequential_1\"\n",
            "_________________________________________________________________\n",
            "Layer (type)                 Output Shape              Param #   \n",
            "=================================================================\n",
            "lstm_1 (LSTM)                (None, 193, 128)          66560     \n",
            "_________________________________________________________________\n",
            "lstm_2 (LSTM)                (None, 32)                20608     \n",
            "_________________________________________________________________\n",
            "dense_1 (Dense)              (None, 10)                330       \n",
            "=================================================================\n",
            "Total params: 87,498\n",
            "Trainable params: 87,498\n",
            "Non-trainable params: 0\n",
            "_________________________________________________________________\n",
            "None\n"
          ],
          "name": "stdout"
        }
      ]
    },
    {
      "cell_type": "code",
      "metadata": {
        "id": "0Du00YqY922B",
        "colab_type": "code",
        "colab": {
          "base_uri": "https://localhost:8080/",
          "height": 1000
        },
        "outputId": "7b7214e6-66c6-4da5-b970-738cd9f5cc82"
      },
      "source": [
        "print(\"Training ...\")\n",
        "model.fit(X_train, y_train, batch_size=35, epochs=100)"
      ],
      "execution_count": 7,
      "outputs": [
        {
          "output_type": "stream",
          "text": [
            "Training ...\n",
            "Epoch 1/100\n",
            "300/300 [==============================] - 4s 14ms/step - loss: 2.3325 - accuracy: 0.1033\n",
            "Epoch 2/100\n",
            "300/300 [==============================] - 3s 10ms/step - loss: 2.2954 - accuracy: 0.1367\n",
            "Epoch 3/100\n",
            "300/300 [==============================] - 3s 10ms/step - loss: 2.2837 - accuracy: 0.1600\n",
            "Epoch 4/100\n",
            "300/300 [==============================] - 3s 10ms/step - loss: 2.2434 - accuracy: 0.1900\n",
            "Epoch 5/100\n",
            "300/300 [==============================] - 3s 10ms/step - loss: 2.1444 - accuracy: 0.2533\n",
            "Epoch 6/100\n",
            "300/300 [==============================] - 3s 10ms/step - loss: 2.0006 - accuracy: 0.2133\n",
            "Epoch 7/100\n",
            "300/300 [==============================] - 3s 10ms/step - loss: 1.9033 - accuracy: 0.2300\n",
            "Epoch 8/100\n",
            "300/300 [==============================] - 3s 10ms/step - loss: 1.8303 - accuracy: 0.2867\n",
            "Epoch 9/100\n",
            "300/300 [==============================] - 3s 10ms/step - loss: 1.7794 - accuracy: 0.3400\n",
            "Epoch 10/100\n",
            "300/300 [==============================] - 3s 10ms/step - loss: 1.7223 - accuracy: 0.3667\n",
            "Epoch 11/100\n",
            "300/300 [==============================] - 3s 10ms/step - loss: 1.6773 - accuracy: 0.3333\n",
            "Epoch 12/100\n",
            "300/300 [==============================] - 3s 10ms/step - loss: 1.6773 - accuracy: 0.3700\n",
            "Epoch 13/100\n",
            "300/300 [==============================] - 3s 10ms/step - loss: 1.6351 - accuracy: 0.3733\n",
            "Epoch 14/100\n",
            "300/300 [==============================] - 3s 10ms/step - loss: 1.5925 - accuracy: 0.4033\n",
            "Epoch 15/100\n",
            "300/300 [==============================] - 3s 10ms/step - loss: 1.6063 - accuracy: 0.4000\n",
            "Epoch 16/100\n",
            "300/300 [==============================] - 3s 10ms/step - loss: 1.5204 - accuracy: 0.4267\n",
            "Epoch 17/100\n",
            "300/300 [==============================] - 3s 10ms/step - loss: 1.5132 - accuracy: 0.4500\n",
            "Epoch 18/100\n",
            "300/300 [==============================] - 3s 10ms/step - loss: 1.4853 - accuracy: 0.4400\n",
            "Epoch 19/100\n",
            "300/300 [==============================] - 3s 10ms/step - loss: 1.4038 - accuracy: 0.4567\n",
            "Epoch 20/100\n",
            "300/300 [==============================] - 3s 10ms/step - loss: 1.3923 - accuracy: 0.5200\n",
            "Epoch 21/100\n",
            "300/300 [==============================] - 3s 10ms/step - loss: 1.3576 - accuracy: 0.5200\n",
            "Epoch 22/100\n",
            "300/300 [==============================] - 3s 10ms/step - loss: 1.3693 - accuracy: 0.5167\n",
            "Epoch 23/100\n",
            "300/300 [==============================] - 3s 10ms/step - loss: 1.3665 - accuracy: 0.5100\n",
            "Epoch 24/100\n",
            "300/300 [==============================] - 3s 10ms/step - loss: 1.2804 - accuracy: 0.5067\n",
            "Epoch 25/100\n",
            "300/300 [==============================] - 3s 10ms/step - loss: 1.2038 - accuracy: 0.5733\n",
            "Epoch 26/100\n",
            "300/300 [==============================] - 3s 10ms/step - loss: 1.2208 - accuracy: 0.5767\n",
            "Epoch 27/100\n",
            "300/300 [==============================] - 3s 10ms/step - loss: 1.3674 - accuracy: 0.4933\n",
            "Epoch 28/100\n",
            "300/300 [==============================] - 3s 10ms/step - loss: 1.2081 - accuracy: 0.5967\n",
            "Epoch 29/100\n",
            "300/300 [==============================] - 3s 10ms/step - loss: 1.0909 - accuracy: 0.6267\n",
            "Epoch 30/100\n",
            "300/300 [==============================] - 3s 10ms/step - loss: 1.0614 - accuracy: 0.6167\n",
            "Epoch 31/100\n",
            "300/300 [==============================] - 3s 10ms/step - loss: 1.0501 - accuracy: 0.6533\n",
            "Epoch 32/100\n",
            "300/300 [==============================] - 3s 10ms/step - loss: 1.0034 - accuracy: 0.6367\n",
            "Epoch 33/100\n",
            "300/300 [==============================] - 3s 10ms/step - loss: 0.9596 - accuracy: 0.6833\n",
            "Epoch 34/100\n",
            "300/300 [==============================] - 3s 10ms/step - loss: 0.9401 - accuracy: 0.6700\n",
            "Epoch 35/100\n",
            "300/300 [==============================] - 3s 10ms/step - loss: 0.9630 - accuracy: 0.6900\n",
            "Epoch 36/100\n",
            "300/300 [==============================] - 3s 10ms/step - loss: 0.9241 - accuracy: 0.7033\n",
            "Epoch 37/100\n",
            "300/300 [==============================] - 3s 10ms/step - loss: 0.8977 - accuracy: 0.7000\n",
            "Epoch 38/100\n",
            "300/300 [==============================] - 3s 10ms/step - loss: 0.8943 - accuracy: 0.7033\n",
            "Epoch 39/100\n",
            "300/300 [==============================] - 3s 10ms/step - loss: 0.9275 - accuracy: 0.6900\n",
            "Epoch 40/100\n",
            "300/300 [==============================] - 3s 10ms/step - loss: 0.9089 - accuracy: 0.6800\n",
            "Epoch 41/100\n",
            "300/300 [==============================] - 3s 10ms/step - loss: 0.8815 - accuracy: 0.7000\n",
            "Epoch 42/100\n",
            "300/300 [==============================] - 3s 10ms/step - loss: 0.9194 - accuracy: 0.6633\n",
            "Epoch 43/100\n",
            "300/300 [==============================] - 3s 10ms/step - loss: 0.8608 - accuracy: 0.6933\n",
            "Epoch 44/100\n",
            "300/300 [==============================] - 3s 10ms/step - loss: 0.8196 - accuracy: 0.7067\n",
            "Epoch 45/100\n",
            "300/300 [==============================] - 3s 10ms/step - loss: 0.9067 - accuracy: 0.6967\n",
            "Epoch 46/100\n",
            "300/300 [==============================] - 3s 10ms/step - loss: 0.8661 - accuracy: 0.6900\n",
            "Epoch 47/100\n",
            "300/300 [==============================] - 3s 10ms/step - loss: 0.8260 - accuracy: 0.7400\n",
            "Epoch 48/100\n",
            "300/300 [==============================] - 3s 10ms/step - loss: 0.7850 - accuracy: 0.7267\n",
            "Epoch 49/100\n",
            "300/300 [==============================] - 3s 10ms/step - loss: 0.7368 - accuracy: 0.7667\n",
            "Epoch 50/100\n",
            "300/300 [==============================] - 3s 10ms/step - loss: 0.7144 - accuracy: 0.7800\n",
            "Epoch 51/100\n",
            "300/300 [==============================] - 3s 10ms/step - loss: 0.7515 - accuracy: 0.7567\n",
            "Epoch 52/100\n",
            "300/300 [==============================] - 3s 10ms/step - loss: 0.6923 - accuracy: 0.7867\n",
            "Epoch 53/100\n",
            "300/300 [==============================] - 3s 10ms/step - loss: 0.6963 - accuracy: 0.7800\n",
            "Epoch 54/100\n",
            "300/300 [==============================] - 3s 10ms/step - loss: 0.6668 - accuracy: 0.7867\n",
            "Epoch 55/100\n",
            "300/300 [==============================] - 3s 10ms/step - loss: 0.7097 - accuracy: 0.7700\n",
            "Epoch 56/100\n",
            "300/300 [==============================] - 3s 10ms/step - loss: 0.6557 - accuracy: 0.7833\n",
            "Epoch 57/100\n",
            "300/300 [==============================] - 3s 10ms/step - loss: 0.6547 - accuracy: 0.8000\n",
            "Epoch 58/100\n",
            "300/300 [==============================] - 3s 10ms/step - loss: 0.6705 - accuracy: 0.7867\n",
            "Epoch 59/100\n",
            "300/300 [==============================] - 3s 10ms/step - loss: 0.6865 - accuracy: 0.7733\n",
            "Epoch 60/100\n",
            "300/300 [==============================] - 3s 10ms/step - loss: 0.6308 - accuracy: 0.7933\n",
            "Epoch 61/100\n",
            "300/300 [==============================] - 3s 10ms/step - loss: 0.6406 - accuracy: 0.7900\n",
            "Epoch 62/100\n",
            "300/300 [==============================] - 3s 10ms/step - loss: 0.6028 - accuracy: 0.7900\n",
            "Epoch 63/100\n",
            "300/300 [==============================] - 3s 10ms/step - loss: 0.6473 - accuracy: 0.7833\n",
            "Epoch 64/100\n",
            "300/300 [==============================] - 3s 10ms/step - loss: 0.5769 - accuracy: 0.8267\n",
            "Epoch 65/100\n",
            "300/300 [==============================] - 3s 10ms/step - loss: 0.6247 - accuracy: 0.7933\n",
            "Epoch 66/100\n",
            "300/300 [==============================] - 3s 10ms/step - loss: 0.6047 - accuracy: 0.8000\n",
            "Epoch 67/100\n",
            "300/300 [==============================] - 3s 10ms/step - loss: 0.5780 - accuracy: 0.8167\n",
            "Epoch 68/100\n",
            "300/300 [==============================] - 3s 10ms/step - loss: 0.5747 - accuracy: 0.8200\n",
            "Epoch 69/100\n",
            "300/300 [==============================] - 3s 10ms/step - loss: 0.5302 - accuracy: 0.8433\n",
            "Epoch 70/100\n",
            "300/300 [==============================] - 3s 10ms/step - loss: 0.5529 - accuracy: 0.8300\n",
            "Epoch 71/100\n",
            "300/300 [==============================] - 3s 10ms/step - loss: 0.6008 - accuracy: 0.8000\n",
            "Epoch 72/100\n",
            "300/300 [==============================] - 3s 10ms/step - loss: 0.6378 - accuracy: 0.8033\n",
            "Epoch 73/100\n",
            "300/300 [==============================] - 3s 10ms/step - loss: 0.5997 - accuracy: 0.8033\n",
            "Epoch 74/100\n",
            "300/300 [==============================] - 3s 10ms/step - loss: 0.5714 - accuracy: 0.8133\n",
            "Epoch 75/100\n",
            "300/300 [==============================] - 3s 10ms/step - loss: 0.5937 - accuracy: 0.7933\n",
            "Epoch 76/100\n",
            "300/300 [==============================] - 3s 10ms/step - loss: 0.5911 - accuracy: 0.8333\n",
            "Epoch 77/100\n",
            "300/300 [==============================] - 3s 10ms/step - loss: 0.5431 - accuracy: 0.8133\n",
            "Epoch 78/100\n",
            "300/300 [==============================] - 3s 10ms/step - loss: 0.5534 - accuracy: 0.8433\n",
            "Epoch 79/100\n",
            "300/300 [==============================] - 3s 10ms/step - loss: 0.4748 - accuracy: 0.8533\n",
            "Epoch 80/100\n",
            "300/300 [==============================] - 3s 10ms/step - loss: 0.4944 - accuracy: 0.8533\n",
            "Epoch 81/100\n",
            "300/300 [==============================] - 3s 10ms/step - loss: 0.4762 - accuracy: 0.8533\n",
            "Epoch 82/100\n",
            "300/300 [==============================] - 3s 10ms/step - loss: 0.4989 - accuracy: 0.8333\n",
            "Epoch 83/100\n",
            "300/300 [==============================] - 3s 10ms/step - loss: 0.5253 - accuracy: 0.8300\n",
            "Epoch 84/100\n",
            "300/300 [==============================] - 3s 10ms/step - loss: 0.5351 - accuracy: 0.8033\n",
            "Epoch 85/100\n",
            "300/300 [==============================] - 3s 10ms/step - loss: 0.5263 - accuracy: 0.8233\n",
            "Epoch 86/100\n",
            "300/300 [==============================] - 3s 10ms/step - loss: 0.6405 - accuracy: 0.7700\n",
            "Epoch 87/100\n",
            "300/300 [==============================] - 3s 10ms/step - loss: 0.6727 - accuracy: 0.7633\n",
            "Epoch 88/100\n",
            "300/300 [==============================] - 3s 10ms/step - loss: 0.5601 - accuracy: 0.7967\n",
            "Epoch 89/100\n",
            "300/300 [==============================] - 3s 10ms/step - loss: 0.5057 - accuracy: 0.8333\n",
            "Epoch 90/100\n",
            "300/300 [==============================] - 3s 10ms/step - loss: 0.5121 - accuracy: 0.8400\n",
            "Epoch 91/100\n",
            "300/300 [==============================] - 3s 10ms/step - loss: 0.5145 - accuracy: 0.8233\n",
            "Epoch 92/100\n",
            "300/300 [==============================] - 3s 10ms/step - loss: 0.5236 - accuracy: 0.8400\n",
            "Epoch 93/100\n",
            "300/300 [==============================] - 3s 10ms/step - loss: 0.5187 - accuracy: 0.8433\n",
            "Epoch 94/100\n",
            "300/300 [==============================] - 3s 10ms/step - loss: 0.4982 - accuracy: 0.8400\n",
            "Epoch 95/100\n",
            "300/300 [==============================] - 3s 10ms/step - loss: 0.4158 - accuracy: 0.8667\n",
            "Epoch 96/100\n",
            "300/300 [==============================] - 3s 10ms/step - loss: 0.4454 - accuracy: 0.8467\n",
            "Epoch 97/100\n",
            "300/300 [==============================] - 3s 10ms/step - loss: 0.4326 - accuracy: 0.8667\n",
            "Epoch 98/100\n",
            "300/300 [==============================] - 3s 10ms/step - loss: 0.4687 - accuracy: 0.8467\n",
            "Epoch 99/100\n",
            "300/300 [==============================] - 3s 10ms/step - loss: 0.4437 - accuracy: 0.8667\n",
            "Epoch 100/100\n",
            "300/300 [==============================] - 3s 10ms/step - loss: 0.4504 - accuracy: 0.8433\n"
          ],
          "name": "stdout"
        },
        {
          "output_type": "execute_result",
          "data": {
            "text/plain": [
              "<keras.callbacks.callbacks.History at 0x7f30d59fd438>"
            ]
          },
          "metadata": {
            "tags": []
          },
          "execution_count": 7
        }
      ]
    },
    {
      "cell_type": "code",
      "metadata": {
        "id": "WqKWOVWo_MAL",
        "colab_type": "code",
        "colab": {
          "base_uri": "https://localhost:8080/",
          "height": 102
        },
        "outputId": "2abbca51-4c01-4891-d5c7-8993356733c5"
      },
      "source": [
        "print(\"\\nValidating ...\")\n",
        "score, accuracy = model.evaluate(X_test, y_test, batch_size=35, verbose=1)\n",
        "print(\"Loss:  \", score)\n",
        "print(\"Accuracy:  \", accuracy)"
      ],
      "execution_count": 8,
      "outputs": [
        {
          "output_type": "stream",
          "text": [
            "\n",
            "Validating ...\n",
            "100/100 [==============================] - 0s 3ms/step\n",
            "Loss:   0.9351997882127762\n",
            "Accuracy:   0.7200000286102295\n"
          ],
          "name": "stdout"
        }
      ]
    }
  ]
}